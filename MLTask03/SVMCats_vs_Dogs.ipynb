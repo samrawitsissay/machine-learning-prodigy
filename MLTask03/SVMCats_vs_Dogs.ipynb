{
 "cells": [
  {
   "cell_type": "code",
   "execution_count": 1,
   "id": "8477ee15",
   "metadata": {},
   "outputs": [
    {
     "ename": "ModuleNotFoundError",
     "evalue": "No module named 'tensorflow'",
     "output_type": "error",
     "traceback": [
      "\u001b[31m---------------------------------------------------------------------------\u001b[39m",
      "\u001b[31mModuleNotFoundError\u001b[39m                       Traceback (most recent call last)",
      "\u001b[36mCell\u001b[39m\u001b[36m \u001b[39m\u001b[32mIn[1]\u001b[39m\u001b[32m, line 10\u001b[39m\n\u001b[32m      8\u001b[39m \u001b[38;5;28;01mfrom\u001b[39;00m\u001b[38;5;250m \u001b[39m\u001b[34;01msklearn\u001b[39;00m\u001b[34;01m.\u001b[39;00m\u001b[34;01mmodel_selection\u001b[39;00m\u001b[38;5;250m \u001b[39m\u001b[38;5;28;01mimport\u001b[39;00m train_test_split\n\u001b[32m      9\u001b[39m \u001b[38;5;28;01mfrom\u001b[39;00m\u001b[38;5;250m \u001b[39m\u001b[34;01msklearn\u001b[39;00m\u001b[34;01m.\u001b[39;00m\u001b[34;01mmetrics\u001b[39;00m\u001b[38;5;250m \u001b[39m\u001b[38;5;28;01mimport\u001b[39;00m accuracy_score\n\u001b[32m---> \u001b[39m\u001b[32m10\u001b[39m \u001b[38;5;28;01mfrom\u001b[39;00m\u001b[38;5;250m \u001b[39m\u001b[34;01mtensorflow\u001b[39;00m\u001b[34;01m.\u001b[39;00m\u001b[34;01mkeras\u001b[39;00m\u001b[34;01m.\u001b[39;00m\u001b[34;01mapplications\u001b[39;00m\u001b[34;01m.\u001b[39;00m\u001b[34;01mvgg16\u001b[39;00m\u001b[38;5;250m \u001b[39m\u001b[38;5;28;01mimport\u001b[39;00m VGG16, preprocess_input\n\u001b[32m     11\u001b[39m \u001b[38;5;28;01mfrom\u001b[39;00m\u001b[38;5;250m \u001b[39m\u001b[34;01mtensorflow\u001b[39;00m\u001b[34;01m.\u001b[39;00m\u001b[34;01mkeras\u001b[39;00m\u001b[34;01m.\u001b[39;00m\u001b[34;01mpreprocessing\u001b[39;00m\u001b[38;5;250m \u001b[39m\u001b[38;5;28;01mimport\u001b[39;00m image\n",
      "\u001b[31mModuleNotFoundError\u001b[39m: No module named 'tensorflow'"
     ]
    }
   ],
   "source": [
    "#import\n",
    "import os\n",
    "import cv2\n",
    "import numpy as np\n",
    "import pandas as pd\n",
    "from skimage.feature import hog\n",
    "from sklearn.svm import SVC\n",
    "from sklearn.model_selection import train_test_split\n",
    "from sklearn.metrics import accuracy_score\n",
    "from tensorflow.keras.applications.vgg16 import VGG16, preprocess_input\n",
    "from tensorflow.keras.preprocessing import image"
   ]
  },
  {
   "cell_type": "code",
   "execution_count": null,
   "id": "db9bf014",
   "metadata": {},
   "outputs": [],
   "source": [
    "train_dir = \"path_to/train\"  # contains 'cats' and 'dogs' folders\n",
    "test_dir = \"path_to/test1\"   # test images\n",
    "\n",
    "# Step 4: Parameters\n",
    "img_size_hog = (64, 64)      # HOG image resize\n",
    "img_size_cnn = (224, 224) "
   ]
  },
  {
   "cell_type": "code",
   "execution_count": null,
   "id": "d0d8d5f9",
   "metadata": {},
   "outputs": [
    {
     "ename": "ModuleNotFoundError",
     "evalue": "No module named 'cv2'",
     "output_type": "error",
     "traceback": [
      "\u001b[1;31m---------------------------------------------------------------------------\u001b[0m\n",
      "\u001b[1;31mModuleNotFoundError\u001b[0m                       Traceback (most recent call last)\n",
      "Cell \u001b[1;32mIn[1], line 3\u001b[0m\n",
      "\u001b[0;32m      1\u001b[0m \u001b[38;5;66;03m#import\u001b[39;00m\n",
      "\u001b[0;32m      2\u001b[0m \u001b[38;5;28;01mimport\u001b[39;00m\u001b[38;5;250m \u001b[39m\u001b[38;5;21;01mos\u001b[39;00m\n",
      "\u001b[1;32m----> 3\u001b[0m \u001b[38;5;28;01mimport\u001b[39;00m\u001b[38;5;250m \u001b[39m\u001b[38;5;21;01mcv2\u001b[39;00m\n",
      "\u001b[0;32m      4\u001b[0m \u001b[38;5;28;01mimport\u001b[39;00m\u001b[38;5;250m \u001b[39m\u001b[38;5;21;01mnumpy\u001b[39;00m\u001b[38;5;250m \u001b[39m\u001b[38;5;28;01mas\u001b[39;00m\u001b[38;5;250m \u001b[39m\u001b[38;5;21;01mnp\u001b[39;00m\n",
      "\u001b[0;32m      5\u001b[0m \u001b[38;5;28;01mimport\u001b[39;00m\u001b[38;5;250m \u001b[39m\u001b[38;5;21;01mpandas\u001b[39;00m\u001b[38;5;250m \u001b[39m\u001b[38;5;28;01mas\u001b[39;00m\u001b[38;5;250m \u001b[39m\u001b[38;5;21;01mpd\u001b[39;00m\n",
      "\n",
      "\u001b[1;31mModuleNotFoundError\u001b[0m: No module named 'cv2'"
     ]
    }
   ],
   "source": [
    "# Option A: HOG Features\n",
    "def load_images_hog(folder):\n",
    "    images, labels = [], []\n",
    "    for label, cls in enumerate(['cats', 'dogs']):\n",
    "        cls_folder = os.path.join(folder, cls)\n",
    "        for file in os.listdir(cls_folder):\n",
    "            img_path = os.path.join(cls_folder, file)\n",
    "            img = cv2.imread(img_path, cv2.IMREAD_COLOR)\n",
    "            if img is not None:\n",
    "                img = cv2.resize(img, img_size_hog)\n",
    "                gray = cv2.cvtColor(img, cv2.COLOR_BGR2GRAY)\n",
    "                feature = hog(gray, pixels_per_cell=(8,8), cells_per_block=(2,2),\n",
    "                              orientations=9, block_norm='L2-Hys')\n",
    "                images.append(feature)\n",
    "                labels.append(label)\n",
    "    return np.array(images), np.array(labels)"
   ]
  },
  {
   "cell_type": "code",
   "execution_count": null,
   "id": "cb57e6d1",
   "metadata": {},
   "outputs": [],
   "source": [
    "# Load training data with HOG\n",
    "X_hog, y_hog = load_images_hog(train_dir)\n",
    "X_train, X_val, y_train, y_val = train_test_split(X_hog, y_hog, test_size=0.2, random_state=42)\n",
    "\n",
    "# Train SVM\n",
    "svm_hog = SVC(kernel='linear')\n",
    "svm_hog.fit(X_train, y_train)\n",
    "\n",
    "# Evaluate\n",
    "y_pred = svm_hog.predict(X_val)\n",
    "print(\"HOG-SVM Validation Accuracy:\", accuracy_score(y_val, y_pred))"
   ]
  },
  {
   "cell_type": "code",
   "execution_count": null,
   "id": "432cd024",
   "metadata": {},
   "outputs": [],
   "source": [
    "# Option B: CNN Features (VGG16)\n",
    "cnn_model = VGG16(weights='imagenet', include_top=False, pooling='avg')\n",
    "\n",
    "def extract_features_cnn(folder):\n",
    "    features, labels = [], []\n",
    "    for label, cls in enumerate(['cats', 'dogs']):\n",
    "        cls_folder = os.path.join(folder, cls)\n",
    "        for file in os.listdir(cls_folder):\n",
    "            img_path = os.path.join(cls_folder, file)\n",
    "            img = image.load_img(img_path, target_size=img_size_cnn)\n",
    "            x = image.img_to_array(img)\n",
    "            x = np.expand_dims(x, axis=0)\n",
    "            x = preprocess_input(x)\n",
    "            feat = cnn_model.predict(x)\n",
    "            features.append(feat.flatten())\n",
    "            labels.append(label)\n",
    "    return np.array(features), np.array(labels)"
   ]
  },
  {
   "cell_type": "code",
   "execution_count": null,
   "id": "5824623c",
   "metadata": {},
   "outputs": [],
   "source": [
    "# Load CNN features\n",
    "X_cnn, y_cnn = extract_features_cnn(train_dir)\n",
    "X_train, X_val, y_train, y_val = train_test_split(X_cnn, y_cnn, test_size=0.2, random_state=42)\n",
    "\n",
    "# Train SVM\n",
    "svm_cnn = SVC(kernel='linear')\n",
    "svm_cnn.fit(X_train, y_train)\n",
    "\n",
    "# Evaluate\n",
    "y_pred = svm_cnn.predict(X_val)\n",
    "print(\"CNN-SVM Validation Accuracy:\", accuracy_score(y_val, y_pred))"
   ]
  },
  {
   "cell_type": "code",
   "execution_count": null,
   "id": "5431f12e",
   "metadata": {},
   "outputs": [],
   "source": [
    "# Predict on Test Set (CNN Example)\n",
    "def extract_test_features(folder):\n",
    "    features, filenames = [], []\n",
    "    for file in os.listdir(folder):\n",
    "        img_path = os.path.join(folder, file)\n",
    "        img = image.load_img(img_path, target_size=img_size_cnn)\n",
    "        x = image.img_to_array(img)\n",
    "        x = np.expand_dims(x, axis=0)\n",
    "        x = preprocess_input(x)\n",
    "        feat = cnn_model.predict(x)\n",
    "        features.append(feat.flatten())\n",
    "        filenames.append(file)\n",
    "    return np.array(features), filenames\n",
    "\n",
    "X_test, test_files = extract_test_features(test_dir)\n",
    "y_test_pred = svm_cnn.predict(X_test)\n"
   ]
  },
  {
   "cell_type": "code",
   "execution_count": null,
   "id": "bb28855b",
   "metadata": {},
   "outputs": [],
   "source": [
    "submission = pd.DataFrame({\"id\": test_files, \"label\": y_test_pred})\n",
    "submission.to_csv(\"submission.csv\", index=False)\n",
    "print(\"Submission saved as submission.csv\")"
   ]
  }
 ],
 "metadata": {
  "kernelspec": {
   "display_name": "Python 3",
   "language": "python",
   "name": "python3"
  },
  "language_info": {
   "codemirror_mode": {
    "name": "ipython",
    "version": 3
   },
   "file_extension": ".py",
   "mimetype": "text/x-python",
   "name": "python",
   "nbconvert_exporter": "python",
   "pygments_lexer": "ipython3",
   "version": "3.13.5"
  }
 },
 "nbformat": 4,
 "nbformat_minor": 5
}
