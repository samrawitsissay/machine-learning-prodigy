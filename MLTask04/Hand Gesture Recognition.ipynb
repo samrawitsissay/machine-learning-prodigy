{
 "cells": [
  {
   "cell_type": "code",
   "execution_count": 1,
   "id": "52f974f1",
   "metadata": {},
   "outputs": [],
   "source": [
    "import os\n",
    "import torch\n",
    "import torch.nn as nn\n",
    "from torch.utils.data import Dataset, DataLoader\n",
    "from torchvision import transforms, models\n",
    "from sklearn.metrics import classification_report, confusion_matrix\n",
    "import matplotlib.pyplot as plt\n",
    "from PIL import Image\n",
    "import numpy as np"
   ]
  },
  {
   "cell_type": "code",
   "execution_count": 2,
   "id": "a06c8490",
   "metadata": {},
   "outputs": [],
   "source": [
    "DATA_DIR = r\"C:\\Users\\user\\desktop\\machine-learning-prodigy\\MLTask04\\leapGestRecog\""
   ]
  },
  {
   "cell_type": "code",
   "execution_count": 4,
   "id": "ee3ca86d",
   "metadata": {},
   "outputs": [],
   "source": [
    "class LeapDataset(Dataset):\n",
    "    def __init__(self, data_dir, subjects, transform=None):\n",
    "        self.transform = transform\n",
    "        self.samples = []\n",
    "        self.labels = []\n",
    "        self.label_map = {}  # map gesture folder name -> label\n",
    "        gesture_idx = 0\n",
    "        \n",
    "        for subject in subjects:\n",
    "            subject_path = os.path.join(data_dir, subject)\n",
    "            for gesture in sorted(os.listdir(subject_path)):\n",
    "                gesture_path = os.path.join(subject_path, gesture)\n",
    "                if os.path.isdir(gesture_path):\n",
    "                    if gesture not in self.label_map:\n",
    "                        self.label_map[gesture] = gesture_idx\n",
    "                        gesture_idx += 1\n",
    "                    label = self.label_map[gesture]\n",
    "                    for img_file in os.listdir(gesture_path):\n",
    "                        if img_file.endswith(\".png\") or img_file.endswith(\".jpg\"):\n",
    "                            self.samples.append(os.path.join(gesture_path, img_file))\n",
    "                            self.labels.append(label)\n",
    "    \n",
    "    def __len__(self):\n",
    "        return len(self.samples)\n",
    "    \n",
    "    def __getitem__(self, idx):\n",
    "        img_path = self.samples[idx]\n",
    "        label = self.labels[idx]\n",
    "        img = Image.open(img_path).convert(\"L\")  # 1-channel\n",
    "        if self.transform:\n",
    "            img = self.transform(img)\n",
    "        return img, label"
   ]
  },
  {
   "cell_type": "code",
   "execution_count": 5,
   "id": "9181433c",
   "metadata": {},
   "outputs": [
    {
     "name": "stdout",
     "output_type": "stream",
     "text": [
      "Number of classes: 10\n"
     ]
    }
   ],
   "source": [
    "IMG_SIZE = 128\n",
    "BATCH_SIZE = 64\n",
    "\n",
    "transform = transforms.Compose([\n",
    "    transforms.Resize((IMG_SIZE, IMG_SIZE)),\n",
    "    transforms.ToTensor(),\n",
    "])\n",
    "\n",
    "# Subjects split: 00-07 train, 08 val, 09 test\n",
    "train_subjects = [f\"{i:02d}\" for i in range(8)]\n",
    "val_subjects = [\"08\"]\n",
    "test_subjects = [\"09\"]\n",
    "\n",
    "train_dataset = LeapDataset(DATA_DIR, train_subjects, transform=transform)\n",
    "val_dataset = LeapDataset(DATA_DIR, val_subjects, transform=transform)\n",
    "test_dataset = LeapDataset(DATA_DIR, test_subjects, transform=transform)\n",
    "\n",
    "train_loader = DataLoader(train_dataset, batch_size=BATCH_SIZE, shuffle=True)\n",
    "val_loader = DataLoader(val_dataset, batch_size=BATCH_SIZE, shuffle=False)\n",
    "test_loader = DataLoader(test_dataset, batch_size=BATCH_SIZE, shuffle=False)\n",
    "\n",
    "num_classes = len(train_dataset.label_map)\n",
    "print(f\"Number of classes: {num_classes}\")"
   ]
  },
  {
   "cell_type": "code",
   "execution_count": 6,
   "id": "f92c8865",
   "metadata": {},
   "outputs": [
    {
     "name": "stdout",
     "output_type": "stream",
     "text": [
      "Using device: cpu\n"
     ]
    }
   ],
   "source": [
    "device = torch.device(\"cuda\" if torch.cuda.is_available() else \"cpu\")\n",
    "print(\"Using device:\", device)\n",
    "\n",
    "model = models.resnet18(weights=None)\n",
    "model.conv1 = nn.Conv2d(1, 64, kernel_size=7, stride=2, padding=3, bias=False)\n",
    "model.fc = nn.Linear(model.fc.in_features, num_classes)\n",
    "model = model.to(device)"
   ]
  },
  {
   "cell_type": "code",
   "execution_count": 7,
   "id": "65ccad94",
   "metadata": {},
   "outputs": [],
   "source": [
    "criterion = nn.CrossEntropyLoss()\n",
    "optimizer = torch.optim.AdamW(model.parameters(), lr=1e-3)\n",
    "scheduler = torch.optim.lr_scheduler.ReduceLROnPlateau(optimizer, 'min', patience=3, factor=0.5)"
   ]
  },
  {
   "cell_type": "code",
   "execution_count": null,
   "id": "c1421862",
   "metadata": {},
   "outputs": [
    {
     "name": "stdout",
     "output_type": "stream",
     "text": [
      "Epoch 1/10 | Train Loss: 0.0850 | Val Loss: 2.2977\n",
      "Saved best model!\n",
      "Epoch 2/10 | Train Loss: 0.0119 | Val Loss: 0.6601\n",
      "Saved best model!\n",
      "Epoch 3/10 | Train Loss: 0.0089 | Val Loss: 1.8875\n",
      "Epoch 4/10 | Train Loss: 0.0131 | Val Loss: 1.0717\n",
      "Epoch 5/10 | Train Loss: 0.0022 | Val Loss: 1.2329\n",
      "Epoch 6/10 | Train Loss: 0.0001 | Val Loss: 1.4272\n"
     ]
    }
   ],
   "source": [
    "EPOCHS = 10\n",
    "best_val_loss = float('inf')\n",
    "for epoch in range(EPOCHS):\n",
    "    model.train()\n",
    "    running_loss = 0\n",
    "    for imgs, labels in train_loader:\n",
    "        imgs, labels = imgs.to(device), labels.to(device)\n",
    "        optimizer.zero_grad()\n",
    "        outputs = model(imgs)\n",
    "        loss = criterion(outputs, labels)\n",
    "        loss.backward()\n",
    "        optimizer.step()\n",
    "        running_loss += loss.item()\n",
    "    \n",
    "    val_loss = 0\n",
    "    model.eval()\n",
    "    with torch.no_grad():\n",
    "        for imgs, labels in val_loader:\n",
    "            imgs, labels = imgs.to(device), labels.to(device)\n",
    "            outputs = model(imgs)\n",
    "            loss = criterion(outputs, labels)\n",
    "            val_loss += loss.item()\n",
    "    \n",
    "    val_loss /= len(val_loader)\n",
    "    scheduler.step(val_loss)\n",
    "    print(f\"Epoch {epoch+1}/{EPOCHS} | Train Loss: {running_loss/len(train_loader):.4f} | Val Loss: {val_loss:.4f}\")\n",
    "    \n",
    "    # Save best model\n",
    "    if val_loss < best_val_loss:\n",
    "        best_val_loss = val_loss\n",
    "        torch.save(model.state_dict(), \"best.pt\")\n",
    "        print(\"Saved best model!\")"
   ]
  },
  {
   "cell_type": "code",
   "execution_count": null,
   "id": "6aac28c7",
   "metadata": {},
   "outputs": [],
   "source": []
  },
  {
   "cell_type": "code",
   "execution_count": null,
   "id": "08349cb6",
   "metadata": {},
   "outputs": [],
   "source": [
    "def predict_image(img_path):\n",
    "    img = Image.open(img_path).convert(\"L\")\n",
    "    img = transform(img).unsqueeze(0).to(device)\n",
    "    model.eval()\n",
    "    with torch.no_grad():\n",
    "        output = model(img)\n",
    "        pred = torch.argmax(output, dim=1).item()\n",
    "    for gesture, idx in train_dataset.label_map.items():\n",
    "        if idx == pred:\n",
    "            return gesture"
   ]
  }
 ],
 "metadata": {
  "kernelspec": {
   "display_name": "Python 3",
   "language": "python",
   "name": "python3"
  },
  "language_info": {
   "codemirror_mode": {
    "name": "ipython",
    "version": 3
   },
   "file_extension": ".py",
   "mimetype": "text/x-python",
   "name": "python",
   "nbconvert_exporter": "python",
   "pygments_lexer": "ipython3",
   "version": "undefined.undefined.undefined"
  }
 },
 "nbformat": 4,
 "nbformat_minor": 5
}
